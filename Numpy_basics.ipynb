{
  "nbformat": 4,
  "nbformat_minor": 0,
  "metadata": {
    "colab": {
      "provenance": [],
      "authorship_tag": "ABX9TyP2Ke2pzy75oXoU0/fEFFg0",
      "include_colab_link": true
    },
    "kernelspec": {
      "name": "python3",
      "display_name": "Python 3"
    },
    "language_info": {
      "name": "python"
    }
  },
  "cells": [
    {
      "cell_type": "markdown",
      "metadata": {
        "id": "view-in-github",
        "colab_type": "text"
      },
      "source": [
        "<a href=\"https://colab.research.google.com/github/lalit1511/NumpyLearning/blob/main/Numpy_basics.ipynb\" target=\"_parent\"><img src=\"https://colab.research.google.com/assets/colab-badge.svg\" alt=\"Open In Colab\"/></a>"
      ]
    },
    {
      "cell_type": "code",
      "execution_count": 1,
      "metadata": {
        "colab": {
          "base_uri": "https://localhost:8080/"
        },
        "id": "tfEPj2W8ek-l",
        "outputId": "4065674c-e2ff-45d6-8ffd-023f2e6a11cd"
      },
      "outputs": [
        {
          "output_type": "stream",
          "name": "stdout",
          "text": [
            "📌 NumPy Version: 2.0.2\n",
            "\n",
            "1D Array: [1 2 3 4]\n",
            "\n",
            "2D Array:\n",
            " [[1 2]\n",
            " [3 4]]\n",
            "\n",
            "Zeros:\n",
            " [[0. 0. 0.]\n",
            " [0. 0. 0.]]\n",
            "\n",
            "Ones:\n",
            " [[1. 1. 1.]\n",
            " [1. 1. 1.]]\n",
            "\n",
            "Range array: [0 1 2 3 4 5 6 7 8 9]\n",
            "\n",
            "Linspace array: [0.   0.25 0.5  0.75 1.  ]\n",
            "\n",
            "Shape: (2, 2)\n",
            "Size: 4\n",
            "Datatype: int64\n",
            "\n",
            "Element at index 2 in arr1: 3\n",
            "Slice arr1[1:3]: [2 3]\n",
            "Last element in arr1: 4\n",
            "\n",
            "Reshaped (4,1):\n",
            " [[1]\n",
            " [2]\n",
            " [3]\n",
            " [4]]\n",
            "Flattened array: [1 2 3 4]\n",
            "\n",
            "Elements > 2 in arr1: [3 4]\n"
          ]
        }
      ],
      "source": [
        "# Project 1: NumPy Basics Playground\n",
        "\n",
        "import numpy as np\n",
        "\n",
        "print(\"📌 NumPy Version:\", np.__version__)\n",
        "\n",
        "# 1. Array Creation\n",
        "arr1 = np.array([1, 2, 3, 4])\n",
        "print(\"\\n1D Array:\", arr1)\n",
        "\n",
        "arr2 = np.array([[1, 2], [3, 4]])\n",
        "print(\"\\n2D Array:\\n\", arr2)\n",
        "\n",
        "# 2. Array Initialization\n",
        "zeros = np.zeros((2, 3))\n",
        "ones = np.ones((2, 3))\n",
        "range_arr = np.arange(10)\n",
        "linspace_arr = np.linspace(0, 1, 5)\n",
        "\n",
        "print(\"\\nZeros:\\n\", zeros)\n",
        "print(\"\\nOnes:\\n\", ones)\n",
        "print(\"\\nRange array:\", range_arr)\n",
        "print(\"\\nLinspace array:\", linspace_arr)\n",
        "\n",
        "# 3. Array Properties\n",
        "print(\"\\nShape:\", arr2.shape)\n",
        "print(\"Size:\", arr2.size)\n",
        "print(\"Datatype:\", arr2.dtype)\n",
        "\n",
        "# 4. Indexing and Slicing\n",
        "print(\"\\nElement at index 2 in arr1:\", arr1[2])\n",
        "print(\"Slice arr1[1:3]:\", arr1[1:3])\n",
        "print(\"Last element in arr1:\", arr1[-1])\n",
        "\n",
        "# 5. Reshape & Flatten\n",
        "reshaped = arr2.reshape(4, 1)\n",
        "flattened = arr2.ravel()\n",
        "\n",
        "print(\"\\nReshaped (4,1):\\n\", reshaped)\n",
        "print(\"Flattened array:\", flattened)\n",
        "\n",
        "# 6. Boolean Indexing\n",
        "print(\"\\nElements > 2 in arr1:\", arr1[arr1 > 2])\n"
      ]
    },
    {
      "cell_type": "code",
      "source": [
        "import numpy as np"
      ],
      "metadata": {
        "id": "iicKx7QmfU0I"
      },
      "execution_count": 2,
      "outputs": []
    },
    {
      "cell_type": "code",
      "source": [
        "print(\"Numpy verison:\", np.__version__)\n",
        "\n",
        "#Array creation:\n",
        "arr1=np.array([1,2,3,4])\n",
        "\n",
        "print(\"\\n1D Array:\",arr1)\n",
        "\n",
        "arr2=np.array([[1,2],[3,4]])\n",
        "print(\"\\n 2D array:\\n \",arr2 )\n",
        "\n",
        "#Array Initialization\n",
        "\n",
        "Zeroes=np.zeros((2,3))\n",
        "Ones=np.ones((2,3))\n",
        "range_arr=np.arange(10)\n",
        "linespace_arr=np.linspace(0,1,5)\n",
        "\n",
        "print(\"\\nZeroes:\\n\",Zeroes)\n",
        "print(\"\\nOnes:\\n\",Ones)\n",
        "print(\"\\nRange_arr:\\n\", range_arr)\n",
        "print(\"\\nLinespace_arr:\\n\",linespace_arr)\n",
        "\n",
        "#Array properties\n",
        "print(\"\\nShape:\", arr2.shape)\n",
        "print(\"\\nSize:\", arr2.size)\n",
        "print(\"\\nDataType:\", arr2.dtype)\n",
        "\n",
        "# 4. Indexing and Slicing\n",
        "print(\"\\nElement at position 2 in arr1:\",arr1[2])\n",
        "print(\"Slice arr1[1:3]:\", arr1[1:3])\n",
        "print(\"Last element in arr1:\", arr1[-1])\n",
        "\n",
        "#5 Reshape & flatten\n",
        "Reshaped=arr2.reshape(4,1)\n",
        "Flattened=arr2.ravel()\n",
        "\n",
        "print(\"\\nReshaped (4,1):\\n\", reshaped)\n",
        "print(\"Flattened array:\", flattened)\n",
        "\n",
        "# 6. Boolean Indexing\n",
        "print(\"\\nElements > 2 in arr1:\", arr1[arr1 > 2])"
      ],
      "metadata": {
        "colab": {
          "base_uri": "https://localhost:8080/"
        },
        "id": "aGZ5psXqfaLl",
        "outputId": "a477c62a-8543-4d0e-ad68-d1210cd3e79b"
      },
      "execution_count": 4,
      "outputs": [
        {
          "output_type": "stream",
          "name": "stdout",
          "text": [
            "Numpy verison: 2.0.2\n",
            "\n",
            "1D Array: [1 2 3 4]\n",
            "\n",
            " 2D array:\n",
            "  [[1 2]\n",
            " [3 4]]\n",
            "\n",
            "Zeroes:\n",
            " [[0. 0. 0.]\n",
            " [0. 0. 0.]]\n",
            "\n",
            "Ones:\n",
            " [[1. 1. 1.]\n",
            " [1. 1. 1.]]\n",
            "\n",
            "Range_arr:\n",
            " [0 1 2 3 4 5 6 7 8 9]\n",
            "\n",
            "Linespace_arr:\n",
            " [0.   0.25 0.5  0.75 1.  ]\n",
            "\n",
            "Shape: (2, 2)\n",
            "\n",
            "Size: 4\n",
            "\n",
            "DataType: int64\n",
            "\n",
            "Element at position 2 in arr1: 3\n",
            "Slice arr1[1:3]: [2 3]\n",
            "Last element in arr1: 4\n",
            "\n",
            "Reshaped (4,1):\n",
            " [[1]\n",
            " [2]\n",
            " [3]\n",
            " [4]]\n",
            "Flattened array: [1 2 3 4]\n",
            "\n",
            "Elements > 2 in arr1: [3 4]\n"
          ]
        }
      ]
    }
  ]
}