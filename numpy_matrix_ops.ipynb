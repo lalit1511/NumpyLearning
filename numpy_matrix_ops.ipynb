{
  "nbformat": 4,
  "nbformat_minor": 0,
  "metadata": {
    "colab": {
      "provenance": [],
      "authorship_tag": "ABX9TyO8YPOTv5M4ZgzzQE5SFAUw",
      "include_colab_link": true
    },
    "kernelspec": {
      "name": "python3",
      "display_name": "Python 3"
    },
    "language_info": {
      "name": "python"
    }
  },
  "cells": [
    {
      "cell_type": "markdown",
      "metadata": {
        "id": "view-in-github",
        "colab_type": "text"
      },
      "source": [
        "<a href=\"https://colab.research.google.com/github/lalit1511/NumpyLearning/blob/main/numpy_matrix_ops.ipynb\" target=\"_parent\"><img src=\"https://colab.research.google.com/assets/colab-badge.svg\" alt=\"Open In Colab\"/></a>"
      ]
    },
    {
      "cell_type": "code",
      "execution_count": 1,
      "metadata": {
        "id": "JPXUEk3DKKav"
      },
      "outputs": [],
      "source": [
        "import numpy as np"
      ]
    },
    {
      "cell_type": "code",
      "source": [
        "# 1. Define 2 matrices\n",
        "A=np.array([[1,2],[3,4]])\n",
        "B=np.array([[5,6],[7,8]])\n",
        "\n",
        "print(\"Matrix A:\\n\",A)\n",
        "print(\"Matrix B:\\n\",B)\n",
        "\n",
        "# 2. Matrix Addition & Subtraction\n",
        "print('\\nA+B:\\n', A+B)\n",
        "print('\\nA-B:\\n',A-B)\n",
        "\n",
        "\n",
        "# 3. Matrix Multiplication\n",
        "print(\"\\nDot product using np.dot:\\n:\", np.dot(A,B))\n",
        "print(\"\\nMatrix multiplication using @:\\n\", A@B)\n",
        "\n",
        "# 4. Transpose\n",
        "print(\"\\nTranspose of A:\\n\", A.T)\n",
        "\n",
        "# 5. Identity Matrix\n",
        "I = np.eye(2)\n",
        "print(\"\\nIdentity Matrix (2x2):\\n\", I)\n",
        "\n",
        "# 6. Inverse (only works if matrix is non-singular)\n",
        "inv_A=np.linalg.inv(A)\n",
        "print(\"\\nInverse of A:\\n\",inv_A)\n",
        "\n",
        "# 7. Determinant\n",
        "det_A=np.linalg.det(A)\n",
        "print(\"\\nDeterminant of A:\",det_A)\n",
        "\n",
        "# 8. Rank\n",
        "rank_A = np.linalg.matrix_rank(A)\n",
        "print(\"Rank of A:\", rank_A)\n",
        "\n",
        "# 9. Check Inverse (A * A_inv should be Identity)\n",
        "check_identity = A @ inv_A\n",
        "print(\"\\nA * A_inv (should be Identity):\\n\", check_identity)"
      ],
      "metadata": {
        "colab": {
          "base_uri": "https://localhost:8080/"
        },
        "id": "2achuFkOLOm2",
        "outputId": "de136ac0-dcb4-4a2b-f2be-6eda9112e6dd"
      },
      "execution_count": 2,
      "outputs": [
        {
          "output_type": "stream",
          "name": "stdout",
          "text": [
            "Matrix A:\n",
            " [[1 2]\n",
            " [3 4]]\n",
            "Matrix B:\n",
            " [[5 6]\n",
            " [7 8]]\n",
            "\n",
            "A+B:\n",
            " [[ 6  8]\n",
            " [10 12]]\n",
            "\n",
            "A-B:\n",
            " [[-4 -4]\n",
            " [-4 -4]]\n",
            "\n",
            "Dot product using np.dot:\n",
            ": [[19 22]\n",
            " [43 50]]\n",
            "\n",
            "Matrix multiplication using @:\n",
            " [[19 22]\n",
            " [43 50]]\n",
            "\n",
            "Transpose of A:\n",
            " [[1 3]\n",
            " [2 4]]\n",
            "\n",
            "Identity Matrix (2x2):\n",
            " [[1. 0.]\n",
            " [0. 1.]]\n",
            "\n",
            "Inverse of A:\n",
            " [[-2.   1. ]\n",
            " [ 1.5 -0.5]]\n",
            "\n",
            "Determinant of A: -2.0000000000000004\n",
            "Rank of A: 2\n",
            "\n",
            "A * A_inv (should be Identity):\n",
            " [[1.0000000e+00 0.0000000e+00]\n",
            " [8.8817842e-16 1.0000000e+00]]\n"
          ]
        }
      ]
    }
  ]
}