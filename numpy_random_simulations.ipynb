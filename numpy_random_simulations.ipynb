{
  "nbformat": 4,
  "nbformat_minor": 0,
  "metadata": {
    "colab": {
      "provenance": [],
      "authorship_tag": "ABX9TyPaTEs511UqUWhauyOuUfFK",
      "include_colab_link": true
    },
    "kernelspec": {
      "name": "python3",
      "display_name": "Python 3"
    },
    "language_info": {
      "name": "python"
    }
  },
  "cells": [
    {
      "cell_type": "markdown",
      "metadata": {
        "id": "view-in-github",
        "colab_type": "text"
      },
      "source": [
        "<a href=\"https://colab.research.google.com/github/lalit1511/NumpyLearning/blob/main/numpy_random_simulations.ipynb\" target=\"_parent\"><img src=\"https://colab.research.google.com/assets/colab-badge.svg\" alt=\"Open In Colab\"/></a>"
      ]
    },
    {
      "cell_type": "code",
      "execution_count": 1,
      "metadata": {
        "id": "lxmRbZUPPYeB"
      },
      "outputs": [],
      "source": [
        "import numpy as np"
      ]
    },
    {
      "cell_type": "code",
      "source": [
        "# Project 4: NumPy Random Simulations\n",
        "# 1. Random integers and floats\n",
        "rand_ints=np.random.randint(1,10, size=(3,3))\n",
        "rand_floats=np.random.rand(3,3)\n",
        "\n",
        "print(\"Random integer:\\n\",rand_ints)\n",
        "print(\"Random floats:\\n\",rand_floats)\n",
        "\n",
        "# 2. Set seed for reproducibility\n",
        "np.random.seed(42)\n",
        "print(\"\\nSeeded Random Integers:\\n\", np.random.randint(0, 100, 5))\n",
        "\n",
        "# 3. Simulate a coin toss (0 = tails, 1 = heads)\n",
        "coin_tosses=np.random.choice([0,1], size=10)\n",
        "print(\"\\nCoin Toss Results:\", coin_tosses)\n",
        "\n",
        "# 4. Simulate dice rolls\n",
        "dice_rolls = np.random.randint(1, 7, size=10)\n",
        "print(\"Dice Rolls:\", dice_rolls)\n",
        "\n",
        "# 5. Shuffling an array\n",
        "arr=np.arange(10)\n",
        "np.random.shuffle(arr)\n",
        "print(\"Shuffled array\\n:\",arr)\n",
        "\n",
        "# 6. Random sampling without replacement\n",
        "sample = np.random.choice(arr, size=5, replace=False)\n",
        "print(\"Random Sample (no replacement):\", sample)\n",
        "\n",
        "# 7. Normal distribution simulation\n",
        "norm_data = np.random.normal(loc=50, scale=10, size=1000)\n",
        "print(\"\\nGenerated Normal Data (first 10):\", norm_data[:10])"
      ],
      "metadata": {
        "colab": {
          "base_uri": "https://localhost:8080/"
        },
        "id": "VNL3UDc_PfrJ",
        "outputId": "6dc4202d-3a75-45ea-ed09-32464dc308d1"
      },
      "execution_count": 7,
      "outputs": [
        {
          "output_type": "stream",
          "name": "stdout",
          "text": [
            "Random integer:\n",
            " [[3 7 4]\n",
            " [9 3 5]\n",
            " [3 7 5]]\n",
            "Random floats:\n",
            " [[0.45049925 0.01326496 0.94220176]\n",
            " [0.56328822 0.3854165  0.01596625]\n",
            " [0.23089383 0.24102547 0.68326352]]\n",
            "\n",
            "Seeded Random Integers:\n",
            " [51 92 14 71 60]\n",
            "\n",
            "Coin Toss Results: [0 0 1 0 0 0 0 1 0 1]\n",
            "Dice Rolls: [3 6 5 2 4 6 6 2 4 5]\n",
            "Shuffled array\n",
            ": [1 7 6 2 8 9 3 4 5 0]\n",
            "Random Sample (no replacement): [7 9 8 5 1]\n",
            "\n",
            "Generated Normal Data (first 10): [44.74877149 69.12771271 29.73280384 61.19423612 57.79192635 38.98902244\n",
            " 61.30228194 53.73118915 46.13527049 38.41229758]\n"
          ]
        }
      ]
    }
  ]
}