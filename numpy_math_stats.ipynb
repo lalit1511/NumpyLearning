{
  "nbformat": 4,
  "nbformat_minor": 0,
  "metadata": {
    "colab": {
      "provenance": [],
      "authorship_tag": "ABX9TyNkCrf4vgZaHnnT0qprPgo6",
      "include_colab_link": true
    },
    "kernelspec": {
      "name": "python3",
      "display_name": "Python 3"
    },
    "language_info": {
      "name": "python"
    }
  },
  "cells": [
    {
      "cell_type": "markdown",
      "metadata": {
        "id": "view-in-github",
        "colab_type": "text"
      },
      "source": [
        "<a href=\"https://colab.research.google.com/github/lalit1511/NumpyLearning/blob/main/numpy_math_stats.ipynb\" target=\"_parent\"><img src=\"https://colab.research.google.com/assets/colab-badge.svg\" alt=\"Open In Colab\"/></a>"
      ]
    },
    {
      "cell_type": "code",
      "execution_count": 1,
      "metadata": {
        "id": "WI9DtwvZ7W6C"
      },
      "outputs": [],
      "source": [
        "import numpy as np"
      ]
    },
    {
      "cell_type": "code",
      "source": [
        "#Create 2D Array\n",
        "data=np.array([[10,20,30],[40,50,60]])\n",
        "print(\"\\nOriginal Data: \", data)\n",
        "\n",
        "#Element-wise operations\n",
        "print(\"\\nAdd 5 :\\n\",data+5)\n",
        "print(\"Multiply by 2:\\n\", data*2)\n",
        "\n",
        "#Aggregate statistics\n",
        "\n",
        "print(\"\\nMean:\", np.mean(data))\n",
        "print(\"Median:\", np.median(data))\n",
        "print(\"Standard Deviation:\", np.std(data))\n",
        "print(\"Variance:\", np.var(data))\n",
        "\n",
        "# Axis-based operations\n",
        "print(\"\\nRow-wise sum (axis=1):\", np.sum(data, axis=1))\n",
        "print(\"Column-wise mean (axis=0):\", np.mean(data, axis=0))\n",
        "\n",
        "# Other useful functions\n",
        "print(\"\\nClip values between 15 and 45:\\n\", np.clip(data, 15, 45))\n",
        "print(\"Unique values:\", np.unique(data))\n",
        "print(\"Sorted (flattened):\", np.sort(data, axis=None))"
      ],
      "metadata": {
        "colab": {
          "base_uri": "https://localhost:8080/"
        },
        "id": "BukNjUas7nqJ",
        "outputId": "ab28a249-a337-4de2-f87a-e87b16a6a6e3"
      },
      "execution_count": 2,
      "outputs": [
        {
          "output_type": "stream",
          "name": "stdout",
          "text": [
            "\n",
            "Original Data:  [[10 20 30]\n",
            " [40 50 60]]\n",
            "\n",
            "Add 5 :\n",
            " [[15 25 35]\n",
            " [45 55 65]]\n",
            "Multiply by 2:\n",
            " [[ 20  40  60]\n",
            " [ 80 100 120]]\n",
            "\n",
            "Mean: 35.0\n",
            "Median: 35.0\n",
            "Standard Deviation: 17.07825127659933\n",
            "Variance: 291.6666666666667\n",
            "\n",
            "Row-wise sum (axis=1): [ 60 150]\n",
            "Column-wise mean (axis=0): [25. 35. 45.]\n",
            "\n",
            "Clip values between 15 and 45:\n",
            " [[15 20 30]\n",
            " [40 45 45]]\n",
            "Unique values: [10 20 30 40 50 60]\n",
            "Sorted (flattened): [10 20 30 40 50 60]\n"
          ]
        }
      ]
    },
    {
      "cell_type": "code",
      "source": [
        "# Normalize the data\n",
        "normalized=(data-np.min(data))/(np.max(data)-np.min(data))\n",
        "print(\"\\nNormalizes data:\\n\",normalized)\n",
        "\n",
        "#Calculate Z-score\n",
        "Z_scores=(data-np.mean(data))/(np.std(data))\n",
        "print(\"\\nZ-scores:\\n\", Z_scores)"
      ],
      "metadata": {
        "colab": {
          "base_uri": "https://localhost:8080/"
        },
        "id": "HpDXU5aIHt0d",
        "outputId": "ebc13cfb-d711-4175-e028-d5604ca3828f"
      },
      "execution_count": 5,
      "outputs": [
        {
          "output_type": "stream",
          "name": "stdout",
          "text": [
            "\n",
            "Normalizes data:\n",
            " [[0.  0.2 0.4]\n",
            " [0.6 0.8 1. ]]\n",
            "\n",
            "Z-scores:\n",
            " [[-1.46385011 -0.87831007 -0.29277002]\n",
            " [ 0.29277002  0.87831007  1.46385011]]\n"
          ]
        }
      ]
    }
  ]
}